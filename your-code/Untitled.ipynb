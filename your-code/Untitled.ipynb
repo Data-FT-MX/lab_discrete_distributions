{
 "cells": [
  {
   "cell_type": "code",
   "execution_count": 1,
   "id": "3b84fa0a",
   "metadata": {},
   "outputs": [],
   "source": [
    "def propabilidad_carta(posibles_eventos, espacio_muestral=52):\n",
    "    \"\"\"Calcula la probabilidad de cierto evento\"\"\"\n",
    "    probabilidad = (posibles_eventos/espacio_muestral) * 100\n",
    "    return round(probabilidad, 3)"
   ]
  },
  {
   "cell_type": "code",
   "execution_count": 2,
   "id": "531ca9b1",
   "metadata": {},
   "outputs": [],
   "source": [
    "# Probabilidad de obtener un As"
   ]
  },
  {
   "cell_type": "code",
   "execution_count": 3,
   "id": "4c538e9b",
   "metadata": {},
   "outputs": [
    {
     "ename": "NameError",
     "evalue": "name 'probabilidad_carta' is not defined",
     "output_type": "error",
     "traceback": [
      "\u001b[0;31m---------------------------------------------------------------------------\u001b[0m",
      "\u001b[0;31mNameError\u001b[0m                                 Traceback (most recent call last)",
      "\u001b[0;32m<ipython-input-3-d9d46d112fce>\u001b[0m in \u001b[0;36m<module>\u001b[0;34m\u001b[0m\n\u001b[0;32m----> 1\u001b[0;31m \u001b[0mprob_as\u001b[0m \u001b[0;34m=\u001b[0m \u001b[0mprobabilidad_carta\u001b[0m\u001b[0;34m(\u001b[0m\u001b[0;36m4\u001b[0m\u001b[0;34m)\u001b[0m\u001b[0;34m\u001b[0m\u001b[0;34m\u001b[0m\u001b[0m\n\u001b[0m\u001b[1;32m      2\u001b[0m \u001b[0;34m\u001b[0m\u001b[0m\n\u001b[1;32m      3\u001b[0m \u001b[0mprint\u001b[0m\u001b[0;34m(\u001b[0m\u001b[0;34mf'La probabilidad de obtener un AS es: {prob_as}'\u001b[0m\u001b[0;34m)\u001b[0m\u001b[0;34m\u001b[0m\u001b[0;34m\u001b[0m\u001b[0m\n",
      "\u001b[0;31mNameError\u001b[0m: name 'probabilidad_carta' is not defined"
     ]
    }
   ],
   "source": [
    "prob_as = probabilidad_carta(4)\n",
    "\n",
    "print(f'La probabilidad de obtener un AS es: {prob_as}')"
   ]
  },
  {
   "cell_type": "code",
   "execution_count": null,
   "id": "e7e6e575",
   "metadata": {},
   "outputs": [],
   "source": []
  }
 ],
 "metadata": {
  "kernelspec": {
   "display_name": "Python 3",
   "language": "python",
   "name": "python3"
  },
  "language_info": {
   "codemirror_mode": {
    "name": "ipython",
    "version": 3
   },
   "file_extension": ".py",
   "mimetype": "text/x-python",
   "name": "python",
   "nbconvert_exporter": "python",
   "pygments_lexer": "ipython3",
   "version": "3.8.8"
  }
 },
 "nbformat": 4,
 "nbformat_minor": 5
}
