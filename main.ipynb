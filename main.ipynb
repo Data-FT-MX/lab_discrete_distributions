{
  "nbformat": 4,
  "nbformat_minor": 0,
  "metadata": {
    "colab": {
      "name": "main.ipynb",
      "provenance": [],
      "collapsed_sections": [],
      "include_colab_link": true
    },
    "kernelspec": {
      "display_name": "Python 3",
      "language": "python",
      "name": "python3"
    },
    "language_info": {
      "codemirror_mode": {
        "name": "ipython",
        "version": 3
      },
      "file_extension": ".py",
      "mimetype": "text/x-python",
      "name": "python",
      "nbconvert_exporter": "python",
      "pygments_lexer": "ipython3",
      "version": "3.7.3"
    }
  },
  "cells": [
    {
      "cell_type": "markdown",
      "metadata": {
        "id": "view-in-github",
        "colab_type": "text"
      },
      "source": [
        "<a href=\"https://colab.research.google.com/github/juanmanuelvillacis/lab_discrete_distributions/blob/master/main.ipynb\" target=\"_parent\"><img src=\"https://colab.research.google.com/assets/colab-badge.svg\" alt=\"Open In Colab\"/></a>"
      ]
    },
    {
      "cell_type": "markdown",
      "metadata": {
        "id": "S5nVxQ7ELjr4"
      },
      "source": [
        "# Before your start:\n",
        "\n",
        "    Read the README.md file\n",
        "    Comment as much as you can and use the resources (README.md file)\n",
        "    Happy learning!\n",
        "\n",
        "*Notes:* \n",
        "\n",
        "- Solve the questions with python.\n",
        "\n",
        "- Round the final answer to three decimal places."
      ]
    },
    {
      "cell_type": "markdown",
      "metadata": {
        "id": "tEgeih0XLjsB"
      },
      "source": [
        "## Bernoulli's Distribution\n",
        "\n",
        "In a basket containing 100 fruits, there are 60 apples and 40 oranges. \n",
        "\n",
        "A fruit is picked randomly from the basket. \n",
        "\n",
        "1. **What is the probability that the fruit is apple?**\n",
        "1. **What is the probability that it is an orange?**"
      ]
    },
    {
      "cell_type": "code",
      "metadata": {
        "id": "mWxHrqQQL7th"
      },
      "source": [
        "import numpy as np\n",
        "import matplotlib.pyplot as plt\n",
        "from scipy.stats import bernoulli "
      ],
      "execution_count": 1,
      "outputs": []
    },
    {
      "cell_type": "code",
      "metadata": {
        "colab": {
          "base_uri": "https://localhost:8080/"
        },
        "id": "6ehl57XFLjsC",
        "outputId": "61369899-7fca-40f2-ce72-f3c41d6ef007"
      },
      "source": [
        "\"\"\"\n",
        "Calculate:\n",
        "p = probability that the fruit is an apple \n",
        "q = probability that the fruit is an orange\n",
        "\"\"\"\n",
        "x = [1, 100]\n",
        "p = 0.6\n",
        "q = 0.4\n",
        "print('Apple',bernoulli.pmf(x, p))\n",
        "print('Orange',bernoulli.pmf(x, q))\n",
        "# your code here"
      ],
      "execution_count": 7,
      "outputs": [
        {
          "output_type": "stream",
          "name": "stdout",
          "text": [
            "Apple [0.6 0. ]\n",
            "Orange [0.4 0. ]\n"
          ]
        }
      ]
    },
    {
      "cell_type": "markdown",
      "metadata": {
        "id": "97NngjsbLjsD"
      },
      "source": [
        "Now we take a random sample of 20 fruits from the basket. After each fruit is taken, a new fruit of the same type is replaced in the basket. Therefore, every time we are taking 1 fruit from 100 fruits. \n",
        "\n",
        "1. **What is the probability that the first 5 fruits are all apples?**\n",
        "\n",
        "1. **What is the probability that the first 5 fruits are all apples and the next 15 fruits are all oranges?**\n",
        "\n",
        "You can include the `p` and `q` probabilities you previous calculated in your solution."
      ]
    },
    {
      "cell_type": "code",
      "metadata": {
        "id": "anWQf6rKLjsE",
        "colab": {
          "base_uri": "https://localhost:8080/"
        },
        "outputId": "38fc9638-6463-430e-91b9-f1fda8638a8c"
      },
      "source": [
        "# your code here\n",
        "print('1:',p**5)\n",
        "print('1:',(p**5)*(q**15))"
      ],
      "execution_count": 8,
      "outputs": [
        {
          "output_type": "stream",
          "name": "stdout",
          "text": [
            "1: 0.07775999999999998\n",
            "1: 8.349416423424006e-08\n"
          ]
        }
      ]
    },
    {
      "cell_type": "markdown",
      "metadata": {
        "id": "yPQ--5xULjsF"
      },
      "source": [
        "## Binomial Distribution\n",
        "\n",
        "Similar to the above problem, this time again we randomly sample 20 fruits.\n",
        "\n",
        "**What is the probability that this time the sample contains 5 apples and 15 oranges?**\n",
        "\n",
        "Please note that this time the order of the fruits being picked does not matter."
      ]
    },
    {
      "cell_type": "code",
      "metadata": {
        "id": "gE3V3hPkLjsF",
        "colab": {
          "base_uri": "https://localhost:8080/"
        },
        "outputId": "fa3efc04-d818-4fd7-deeb-1816743ce44f"
      },
      "source": [
        "# your code here\n",
        "from scipy.stats import binom\n",
        "\n",
        "print(\"Prob. of 5 apples:\",binom.pmf(5,20,p))\n",
        "print(\"Prob. of 15 oranges:\",binom.pmf(15,20,q))"
      ],
      "execution_count": 10,
      "outputs": [
        {
          "output_type": "stream",
          "name": "stdout",
          "text": [
            "Prob. of 5 apples: 0.0012944935222876511\n",
            "Prob. of 15 oranges: 0.0012944935222876511\n"
          ]
        }
      ]
    },
    {
      "cell_type": "markdown",
      "metadata": {
        "id": "y7HpmzPwLjsH"
      },
      "source": [
        "In the lesson we also discussed CDF (cumulative distribution function). In the context of the above problem, **what is the probability that less than 5 fruits picked are apples?**\n",
        "\n",
        "Write the formula and calculate the probability below."
      ]
    },
    {
      "cell_type": "code",
      "metadata": {
        "id": "9Ew9BLw6LjsH",
        "colab": {
          "base_uri": "https://localhost:8080/"
        },
        "outputId": "c70f1f88-e20e-464d-939a-e279914a6a35"
      },
      "source": [
        "# your code here\n",
        "print(\"Prob. of less than 5 apples:\",binom.cdf(5,20,p))\n"
      ],
      "execution_count": 11,
      "outputs": [
        {
          "output_type": "stream",
          "name": "stdout",
          "text": [
            "Prob. of less than 5 apples: 0.001611524643456288\n"
          ]
        }
      ]
    },
    {
      "cell_type": "markdown",
      "metadata": {
        "id": "mfK0KbGyLjsI"
      },
      "source": [
        "**Plot the PDF (probability distributiom function) for the above binomial distribution.**\n",
        "\n",
        "*Hint: The range of x in a binomial distribution is from `0` to `n`.*"
      ]
    },
    {
      "cell_type": "code",
      "metadata": {
        "id": "jLNJkhcYLjsJ",
        "colab": {
          "base_uri": "https://localhost:8080/",
          "height": 295
        },
        "outputId": "3e04fcb7-c1e6-494c-b236-c45a226f6528"
      },
      "source": [
        "# your code here\n",
        "# Please label the axes and give a title to the plot \n",
        "import matplotlib.pyplot as plt\n",
        "x = [i for i in range(20)]\n",
        "y = [binom.cdf(x,20,p) for x in x]\n",
        "     \n",
        "plt.xlabel('Quantity of apples')\n",
        "plt.ylabel('Probability')\n",
        "plt.title('Binomial distribution')\n",
        "\n",
        "plt.plot(x,y);"
      ],
      "execution_count": 12,
      "outputs": [
        {
          "output_type": "display_data",
          "data": {
            "image/png": "[encoded data removed]",
            "text/plain": [
              "<Figure size 432x288 with 1 Axes>"
            ]
          },
          "metadata": {
            "needs_background": "light"
          }
        }
      ]
    },
    {
      "cell_type": "markdown",
      "metadata": {
        "id": "npTKo2BMLjsK"
      },
      "source": [
        "## Poisson Distribution\n",
        "\n",
        "In this challenge you are required to use the Math library in python to solve the problems.\n",
        "\n",
        "In the UEFA champions league tournament, the average number of goals scored in a match is 2.3. \n",
        "\n",
        "**What is the probability that the number of goals scored in a match is 5?**\n",
        "\n",
        "*Hint: Use the exp() in the math library*\n",
        "\n",
        "And to calculate the factorial, you can use the following code:\n",
        "\n",
        "```python\n",
        "import math\n",
        "math.factorial(n) # n is the number you want to find the factorial of\n",
        "```"
      ]
    },
    {
      "cell_type": "code",
      "metadata": {
        "id": "81HmlH6hLjsK",
        "colab": {
          "base_uri": "https://localhost:8080/"
        },
        "outputId": "3cc1c2d4-7185-4efa-9a4c-8ec7d4336326"
      },
      "source": [
        "# your code here \n",
        "from scipy.stats import poisson\n",
        "\n",
        "poisson.pmf(5, 2.3)"
      ],
      "execution_count": 13,
      "outputs": [
        {
          "output_type": "execute_result",
          "data": {
            "text/plain": [
              "0.053775025581946814"
            ]
          },
          "metadata": {},
          "execution_count": 13
        }
      ]
    },
    {
      "cell_type": "markdown",
      "metadata": {
        "id": "xJdL4v05LjsK"
      },
      "source": [
        "**Draw a poisson probability distribution plot for the number of goals to be between 0 to 10.**"
      ]
    },
    {
      "cell_type": "code",
      "metadata": {
        "id": "qhCkkhX3LjsL",
        "colab": {
          "base_uri": "https://localhost:8080/",
          "height": 295
        },
        "outputId": "69971433-e9ee-4518-b7f5-d5f55f30d229"
      },
      "source": [
        "# your code here\n",
        "# Please label the axes and give a title to the plot \n",
        "x = [i for i in range(10)]\n",
        "y = [poisson.pmf(x, 2.3) for x in x]\n",
        "     \n",
        "plt.xlabel('Number of goals')\n",
        "plt.ylabel('Probability')\n",
        "plt.title('Poisson distribution of goals in a match')\n",
        "\n",
        "plt.plot(x,y);"
      ],
      "execution_count": 14,
      "outputs": [
        {
          "output_type": "display_data",
          "data": {
            "image/png": "[encoded data removed]",
            "text/plain": [
              "<Figure size 432x288 with 1 Axes>"
            ]
          },
          "metadata": {
            "needs_background": "light"
          }
        }
      ]
    }
  ]
}